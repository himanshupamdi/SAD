{
  "nbformat": 4,
  "nbformat_minor": 0,
  "metadata": {
    "colab": {
      "provenance": []
    },
    "kernelspec": {
      "name": "python3",
      "display_name": "Python 3"
    },
    "language_info": {
      "name": "python"
    }
  },
  "cells": [
    {
      "cell_type": "code",
      "execution_count": null,
      "metadata": {
        "id": "T7Va0Va77jzU"
      },
      "outputs": [],
      "source": [
        "import numpy as np\n",
        "from matplotlib import pyplot as plt\n",
        "import pandas as pd\n",
        "import math"
      ]
    },
    {
      "cell_type": "code",
      "source": [
        "s2_mel = pd.read_csv(\"/content/Segment2_MelEnergy.csv\",header = None)\n",
        "s2_ste = pd.read_csv(\"/content/Segment2_STEnergy.csv\",header = None)\n",
        "s2_gt = pd.read_csv(\"/content/Segment2_VAD_GT.csv\",header = None)"
      ],
      "metadata": {
        "id": "vfomyaYd7lzn"
      },
      "execution_count": null,
      "outputs": []
    },
    {
      "cell_type": "code",
      "source": [
        "s2_mel.shape, s2_ste.shape, s2_gt.shape"
      ],
      "metadata": {
        "colab": {
          "base_uri": "https://localhost:8080/"
        },
        "id": "BuwvE-zq7l2s",
        "outputId": "9f47d47c-5c80-48c0-f1dc-ed73c9e67fb0"
      },
      "execution_count": null,
      "outputs": [
        {
          "output_type": "execute_result",
          "data": {
            "text/plain": [
              "((256, 1), (256, 1), (256, 1))"
            ]
          },
          "metadata": {},
          "execution_count": 9
        }
      ]
    },
    {
      "cell_type": "code",
      "source": [
        "s3_mel = pd.read_csv(\"/content/Segment3_MelEnergy.csv\",header = None)\n",
        "s3_ste = pd.read_csv(\"/content/Segment3_STEnergy.csv\",header = None)\n",
        "s3_gt = pd.read_csv(\"/content/Segment3_VAD_GT.csv\",header = None)\n",
        "\n",
        "s3_mel.shape, s3_ste.shape, s3_gt.shape"
      ],
      "metadata": {
        "colab": {
          "base_uri": "https://localhost:8080/"
        },
        "id": "jAbUQiMZ7l55",
        "outputId": "81aeea31-dcef-4c82-b635-ba4a8b3545ca"
      },
      "execution_count": null,
      "outputs": [
        {
          "output_type": "execute_result",
          "data": {
            "text/plain": [
              "((275, 1), (275, 1), (275, 1))"
            ]
          },
          "metadata": {},
          "execution_count": 10
        }
      ]
    },
    {
      "cell_type": "code",
      "source": [
        "def separate_features(value, gt):\n",
        "  speech, nonspeech = [], []\n",
        "  for i in range(len(gt)):\n",
        "    if gt[i] == 1:\n",
        "      speech.append(value[i])\n",
        "    else:\n",
        "      nonspeech.append(value[i])\n",
        "  return np.array(speech), np.array(nonspeech)"
      ],
      "metadata": {
        "id": "1frw2QbV7l8v"
      },
      "execution_count": null,
      "outputs": []
    },
    {
      "cell_type": "code",
      "source": [
        "def cdf(x, mean, sd):\n",
        "  f1 = math.erf(((x-mean)/sd)/np.sqrt(2))\n",
        "  return (1+f1)/2"
      ],
      "metadata": {
        "id": "nDAfpMv37l_4"
      },
      "execution_count": null,
      "outputs": []
    },
    {
      "cell_type": "code",
      "source": [
        "def pdf(x, mean, sd):\n",
        "  a = 1/(sd*np.sqrt(2*np.pi))\n",
        "  b = np.exp(-0.5*((x-mean)/sd)**2)\n",
        "  return b/a"
      ],
      "metadata": {
        "id": "HXGtnHqf7mCu"
      },
      "execution_count": null,
      "outputs": []
    },
    {
      "cell_type": "code",
      "source": [
        "def classification(y, y_pred):\n",
        "  TP, FP, TN, FN = 0, 0, 0, 0\n",
        "  for i in range(len(y)):\n",
        "    if y[i] == 1 and y_pred[i] == 1:\n",
        "      TP = TP + 1\n",
        "    elif y[i] == 0 and y_pred[i] == 1:\n",
        "      FP = FP + 1\n",
        "    elif y[i] == 0 and y_pred[i] == 0:\n",
        "      TN = TN + 1\n",
        "    elif y[i] == 1 and y_pred[i] == 0:\n",
        "      FN = FN + 1\n",
        "  return TP, FP, TN, FN"
      ],
      "metadata": {
        "id": "I7LWNluW7mFY"
      },
      "execution_count": null,
      "outputs": []
    },
    {
      "cell_type": "code",
      "source": [
        "def tpr(TP, FN):\n",
        "  return TP/(TP+FN)\n",
        "\n",
        "def fpr(TN, FP):\n",
        "  return TN/(TN+FP)"
      ],
      "metadata": {
        "id": "HNo0R3Jv7mIJ"
      },
      "execution_count": null,
      "outputs": []
    },
    {
      "cell_type": "code",
      "source": [
        "ste_speech, ste_nonspeech = separate_features(s2_ste[0], s2_gt[0])\n",
        "prior_STEspeech = len(ste_speech) / len(s2_ste[0])\n",
        "prior_STEnonspeech = len(ste_nonspeech) / len(s2_ste[0])\n",
        "\n",
        "prior_STEspeech, prior_STEnonspeech"
      ],
      "metadata": {
        "colab": {
          "base_uri": "https://localhost:8080/"
        },
        "id": "WuApJnZ27mK_",
        "outputId": "234d5cbd-ec26-4d36-d626-02d99099ce09"
      },
      "execution_count": null,
      "outputs": [
        {
          "output_type": "execute_result",
          "data": {
            "text/plain": [
              "(0.43359375, 0.56640625)"
            ]
          },
          "metadata": {},
          "execution_count": 17
        }
      ]
    },
    {
      "cell_type": "code",
      "source": [
        "mean_ste_s = np.mean(ste_speech)\n",
        "var_ste_s = np.var(ste_speech)\n",
        "print('Speech:\\nmean = {}\\nvariance = {}'.format(mean_ste_s, var_ste_s))"
      ],
      "metadata": {
        "colab": {
          "base_uri": "https://localhost:8080/"
        },
        "id": "jXgNWj2H7mNw",
        "outputId": "b470df21-8670-4a9f-fc30-53791d3ef6c7"
      },
      "execution_count": null,
      "outputs": [
        {
          "output_type": "stream",
          "name": "stdout",
          "text": [
            "Speech:\n",
            "mean = 0.1204343233963964\n",
            "variance = 0.02768125923531732\n"
          ]
        }
      ]
    },
    {
      "cell_type": "code",
      "source": [
        "mean_ste_ns = np.mean(ste_nonspeech)\n",
        "var_ste_ns = np.var(ste_nonspeech)\n",
        "print('Non Speech:\\nmean = {}\\nvariance = {}'.format(mean_ste_ns, var_ste_ns))"
      ],
      "metadata": {
        "colab": {
          "base_uri": "https://localhost:8080/"
        },
        "id": "3YwmaAQ57mRF",
        "outputId": "e124b7ea-06c5-49cc-e786-87ae38ad10bf"
      },
      "execution_count": null,
      "outputs": [
        {
          "output_type": "stream",
          "name": "stdout",
          "text": [
            "Non Speech:\n",
            "mean = 0.05309067413793104\n",
            "variance = 0.001294403516656372\n"
          ]
        }
      ]
    },
    {
      "cell_type": "code",
      "source": [
        "plot_ste_s = np.random.normal(mean_ste_s, np.sqrt(var_ste_s), 10000)\n",
        "plot_ste_ns = np.random.normal(mean_ste_ns, np.sqrt(var_ste_ns), 10000)\n",
        "\n",
        "plt.hist(plot_ste_s, bins=100)\n",
        "plt.hist(plot_ste_ns, bins=100)\n",
        "\n",
        "plt.title('Unimodal Gaussian distribution of Speech/Non Speech')\n",
        "plt.legend(['Speech', 'Non Speech'])\n",
        "plt.show()"
      ],
      "metadata": {
        "colab": {
          "base_uri": "https://localhost:8080/",
          "height": 281
        },
        "id": "2XLVneLfEEYD",
        "outputId": "57c5ebb9-cd7d-4d70-a56e-04927942e580"
      },
      "execution_count": null,
      "outputs": [
        {
          "output_type": "display_data",
          "data": {
            "text/plain": [
              "<Figure size 432x288 with 1 Axes>"
            ],
            "image/png": "[encoded data removed]"
          },
          "metadata": {
            "needs_background": "light"
          }
        }
      ]
    },
    {
      "cell_type": "markdown",
      "source": [
        "Testing for STE Energy"
      ],
      "metadata": {
        "id": "xo38i4C9KaOS"
      }
    },
    {
      "cell_type": "code",
      "source": [
        "p_ste = []\n",
        "for xi in s3_ste[0]:\n",
        "  prob_s = pdf(xi, mean_ste_s, np.sqrt(var_ste_s))*prior_STEspeech\n",
        "  prob_ns = pdf(xi, mean_ste_ns, np.sqrt(var_ste_ns))*prior_STEnonspeech\n",
        "  p_ste.append(prob_s/(prob_s + prob_ns))\n"
      ],
      "metadata": {
        "id": "W3aMt4mQEEay"
      },
      "execution_count": null,
      "outputs": []
    },
    {
      "cell_type": "code",
      "source": [
        "threshold_ste = np.random.uniform(0, 1, size=(1000,))\n",
        "threshold_ste = sorted(threshold_ste)"
      ],
      "metadata": {
        "id": "wOGjP4QLEEdg"
      },
      "execution_count": null,
      "outputs": []
    },
    {
      "cell_type": "code",
      "source": [
        "TP_ste, FP_ste, TN_ste, FN_ste = [], [], [], []\n",
        "for t in threshold_ste:\n",
        "  y_predicted = [1 if i > t else 0 for i in p_ste]\n",
        "  u, v, w, z = classification(s3_gt[0], y_predicted)\n",
        "  TP_ste.append(u)\n",
        "  FP_ste.append(v)\n",
        "  TN_ste.append(w)\n",
        "  FN_ste.append(z)"
      ],
      "metadata": {
        "id": "IGJoVtP_EEg5"
      },
      "execution_count": null,
      "outputs": []
    },
    {
      "cell_type": "code",
      "source": [
        "print('CONFUSION MATRIX')\n",
        "print([[TP_ste[10], FP_ste[10]],[FN_ste[10], TN_ste[10]]])"
      ],
      "metadata": {
        "colab": {
          "base_uri": "https://localhost:8080/"
        },
        "id": "EmvOg_VCIRSW",
        "outputId": "a9ce5700-cf09-46c0-dace-ef485c1ce8d5"
      },
      "execution_count": null,
      "outputs": [
        {
          "output_type": "stream",
          "name": "stdout",
          "text": [
            "CONFUSION MATRIX\n",
            "[[158, 117], [0, 0]]\n"
          ]
        }
      ]
    },
    {
      "cell_type": "code",
      "source": [
        "TPR_ste, FPR_ste = [], []\n",
        "for i in range(len(threshold_ste)):\n",
        "  TPR_ste.append(tpr(TP_ste[i], FN_ste[i]))\n",
        "  FPR_ste.append(1 - fpr(TN_ste[i], FP_ste[i]))"
      ],
      "metadata": {
        "id": "zwW2wSPyIRbL"
      },
      "execution_count": null,
      "outputs": []
    },
    {
      "cell_type": "code",
      "source": [
        "plt.plot(FPR_ste, TPR_ste)\n",
        "plt.plot([0, 1], [0, 1], linestyle=':')\n",
        "plt.xlabel('FPR')\n",
        "plt.ylabel('TPR')\n",
        "plt.title('STE: Receiver Operating Characteristic (ROC) Curve')\n",
        "plt.show()"
      ],
      "metadata": {
        "colab": {
          "base_uri": "https://localhost:8080/",
          "height": 295
        },
        "id": "i-xl2O-7IRrR",
        "outputId": "766b4638-e778-4e82-c04d-4c9eeac08f88"
      },
      "execution_count": null,
      "outputs": [
        {
          "output_type": "display_data",
          "data": {
            "text/plain": [
              "<Figure size 432x288 with 1 Axes>"
            ],
            "image/png": "[encoded data removed]"
          },
          "metadata": {
            "needs_background": "light"
          }
        }
      ]
    },
    {
      "cell_type": "markdown",
      "source": [
        "MEL Energy"
      ],
      "metadata": {
        "id": "t8IID-otPFvn"
      }
    },
    {
      "cell_type": "code",
      "source": [
        "mel_speech, mel_nonspeech = separate_features(s2_mel[0], s2_gt[0])"
      ],
      "metadata": {
        "id": "IxdiDqXnIw2t"
      },
      "execution_count": null,
      "outputs": []
    },
    {
      "cell_type": "code",
      "source": [
        "mean_mel_s = np.mean(mel_speech)\n",
        "var_mel_s = np.var(mel_speech)\n",
        "print('Speech:\\nmean = {}\\nvariance = {}'.format(mean_mel_s, var_mel_s))"
      ],
      "metadata": {
        "colab": {
          "base_uri": "https://localhost:8080/"
        },
        "id": "KcOUEIAZIxAV",
        "outputId": "b3f62912-978c-45c5-c0a6-bba80587507c"
      },
      "execution_count": null,
      "outputs": [
        {
          "output_type": "stream",
          "name": "stdout",
          "text": [
            "Speech:\n",
            "mean = 0.6100466457117119\n",
            "variance = 0.022868307214661175\n"
          ]
        }
      ]
    },
    {
      "cell_type": "code",
      "source": [
        "mean_mel_ns = np.mean(mel_nonspeech)\n",
        "var_mel_ns = np.var(mel_nonspeech)\n",
        "print('Non Speech:\\nmean = {}\\nvariance = {}'.format(mean_mel_ns, var_mel_ns))"
      ],
      "metadata": {
        "colab": {
          "base_uri": "https://localhost:8080/"
        },
        "id": "FWnF4VvPIxDh",
        "outputId": "d3c45285-a105-4084-ce07-2469d6fbabf0"
      },
      "execution_count": null,
      "outputs": [
        {
          "output_type": "stream",
          "name": "stdout",
          "text": [
            "Non Speech:\n",
            "mean = 0.4586546361379311\n",
            "variance = 0.005185428142352255\n"
          ]
        }
      ]
    },
    {
      "cell_type": "code",
      "source": [
        "plot_mel_s = np.random.normal(mean_mel_s, np.sqrt(var_mel_s), 10000)\n",
        "plot_mel_ns = np.random.normal(mean_mel_ns, np.sqrt(var_mel_ns), 10000)\n",
        "\n",
        "plt.hist(plot_mel_s, bins=100)\n",
        "plt.hist(plot_mel_ns, bins=100)\n",
        "\n",
        "plt.title('Unimodal Gaussian distribution of Speech/Non Speech')\n",
        "plt.legend(['Speech', 'Non Speech'])\n",
        "plt.show()"
      ],
      "metadata": {
        "colab": {
          "base_uri": "https://localhost:8080/",
          "height": 281
        },
        "id": "BXnkJoj1IxG4",
        "outputId": "cb150615-655c-46a9-8ef6-094a9b7577f8"
      },
      "execution_count": null,
      "outputs": [
        {
          "output_type": "display_data",
          "data": {
            "text/plain": [
              "<Figure size 432x288 with 1 Axes>"
            ],
            "image/png": "[encoded data removed]"
          },
          "metadata": {
            "needs_background": "light"
          }
        }
      ]
    },
    {
      "cell_type": "markdown",
      "source": [
        "Testing for MEL Energy"
      ],
      "metadata": {
        "id": "v3hSwUZnKheK"
      }
    },
    {
      "cell_type": "code",
      "source": [
        "p_mel = []\n",
        "for xi in s3_mel[0]:\n",
        "  prob_s = pdf(xi, mean_mel_s, np.sqrt(var_mel_s))*prior_STEspeech\n",
        "  prob_ns = pdf(xi, mean_mel_ns, np.sqrt(var_mel_ns))*prior_STEnonspeech\n",
        "  p_mel.append(prob_s/(prob_s + prob_ns))\n",
        " "
      ],
      "metadata": {
        "colab": {
          "base_uri": "https://localhost:8080/"
        },
        "id": "RJ83XuEXKQkC",
        "outputId": "3cb0bca9-b5af-4e3d-aad3-b58ed9a132d0"
      },
      "execution_count": null,
      "outputs": [
        {
          "output_type": "execute_result",
          "data": {
            "text/plain": [
              "(0.4568031124318552, 0.9999999999907603)"
            ]
          },
          "metadata": {},
          "execution_count": 101
        }
      ]
    },
    {
      "cell_type": "code",
      "source": [
        "threshold_mel = np.random.uniform(0, 1, size=(1000,))\n",
        "threshold_mel = sorted(threshold_mel)"
      ],
      "metadata": {
        "id": "tqNBf9gvKQvA"
      },
      "execution_count": null,
      "outputs": []
    },
    {
      "cell_type": "code",
      "source": [
        "TP_mel, FP_mel, TN_mel, FN_mel = [], [], [], []\n",
        "for t in threshold_mel:\n",
        "  y_predicted = [1 if i > t else 0 for i in p_mel]\n",
        "  u, v, w, z = classification(s3_gt[0], y_predicted)\n",
        "  TP_mel.append(u)\n",
        "  FP_mel.append(v)\n",
        "  TN_mel.append(w)\n",
        "  FN_mel.append(z)"
      ],
      "metadata": {
        "id": "uQBsaXsuKQ8x"
      },
      "execution_count": null,
      "outputs": []
    },
    {
      "cell_type": "code",
      "source": [
        "print('CONFUSION MATRIX')\n",
        "print([[TP_mel[10], FP_mel[10]],[FN_mel[10], TN_mel[10]]])"
      ],
      "metadata": {
        "colab": {
          "base_uri": "https://localhost:8080/"
        },
        "id": "MkwLl4RpMh5z",
        "outputId": "6eadf026-87c7-4fab-d453-e8a532c48919"
      },
      "execution_count": null,
      "outputs": [
        {
          "output_type": "stream",
          "name": "stdout",
          "text": [
            "CONFUSION MATRIX\n",
            "[[158, 117], [0, 0]]\n"
          ]
        }
      ]
    },
    {
      "cell_type": "code",
      "source": [
        "TPR_mel, FPR_mel = [], []\n",
        "for i in range(len(threshold_mel)):\n",
        "  TPR_mel.append(tpr(TP_mel[i], FN_mel[i]))\n",
        "  FPR_mel.append(1 - fpr(TN_mel[i], FP_mel[i]))"
      ],
      "metadata": {
        "id": "XtGH7NNRMiDp"
      },
      "execution_count": null,
      "outputs": []
    },
    {
      "cell_type": "code",
      "source": [
        "plt.plot(FPR_mel, TPR_mel)\n",
        "plt.plot([0, 1], [0, 1], linestyle=':')\n",
        "plt.xlabel('FPR')\n",
        "plt.ylabel('TPR')\n",
        "plt.title('MEL: Receiver Operating Characteristic (ROC) Curve')\n",
        "plt.show()"
      ],
      "metadata": {
        "colab": {
          "base_uri": "https://localhost:8080/",
          "height": 295
        },
        "id": "DG6_VKjaMiHG",
        "outputId": "a902e450-9dd0-4c5e-8eda-15c61d873983"
      },
      "execution_count": null,
      "outputs": [
        {
          "output_type": "display_data",
          "data": {
            "text/plain": [
              "<Figure size 432x288 with 1 Axes>"
            ],
            "image/png": "[encoded data removed]"
          },
          "metadata": {
            "needs_background": "light"
          }
        }
      ]
    },
    {
      "cell_type": "markdown",
      "source": [
        "Comparison of STE and MEL"
      ],
      "metadata": {
        "id": "fBFTQJ0HNJx8"
      }
    },
    {
      "cell_type": "code",
      "source": [
        "plt.plot(FPR_ste, TPR_ste)\n",
        "plt.plot(FPR_mel, TPR_mel)\n",
        "plt.plot([0, 1], [0, 1], linestyle=':')\n",
        "plt.xlabel('FPR')\n",
        "plt.ylabel('TPR')\n",
        "plt.title('Receiver Operating Characteristic (ROC) Curve')\n",
        "plt.legend(['STE', 'MEL'])\n",
        "plt.show()"
      ],
      "metadata": {
        "colab": {
          "base_uri": "https://localhost:8080/",
          "height": 295
        },
        "id": "_DDTl9SlMiQI",
        "outputId": "c61141fb-f1eb-4ffd-d130-987cf44a96df"
      },
      "execution_count": null,
      "outputs": [
        {
          "output_type": "display_data",
          "data": {
            "text/plain": [
              "<Figure size 432x288 with 1 Axes>"
            ],
            "image/png": "[encoded data removed]"
          },
          "metadata": {
            "needs_background": "light"
          }
        }
      ]
    }
  ]
}